{
  "cells": [
    {
      "cell_type": "markdown",
      "metadata": {
        "id": "g-MwKY90tYi3"
      },
      "source": [
        "# Problem Statement : Classifying Spam Emails with Natural Language Processing (NLP)\n",
        "\n"
      ]
    },
    {
      "cell_type": "markdown",
      "metadata": {
        "id": "4yNOamr1Dy-d"
      },
      "source": [
        "# Step 1 : Importing basic libraries, and the dataset (Data Collection)\n",
        "\n",
        "The dataset used can be found at : https://www.kaggle.com/datasets/gokulraja84/emails-dataset-for-spam-detection"
      ]
    },
    {
      "cell_type": "code",
      "execution_count": 1,
      "metadata": {
        "id": "4KXWlfAxuLG-"
      },
      "outputs": [],
      "source": [
        "# Basic Libraries\n",
        "import numpy as np\n",
        "import pandas as pd\n",
        "\n",
        "# Plotting Graphs\n",
        "import seaborn as sb\n",
        "import matplotlib.pyplot as plt # We only need pyplot\n",
        "sb.set() # Set the default Seaborn style for graphics"
      ]
    },
    {
      "cell_type": "code",
      "execution_count": null,
      "metadata": {
        "id": "NUHICCoR1NST"
      },
      "outputs": [],
      "source": [
        "# Importing the file\n",
        "from google.colab import files\n",
        "files.upload()"
      ]
    },
    {
      "cell_type": "code",
      "execution_count": 3,
      "metadata": {
        "id": "TjeeBRxrui_o",
        "colab": {
          "base_uri": "https://localhost:8080/",
          "height": 206
        },
        "outputId": "06f6a7a6-ea40-4280-dce8-31e4387f3f62"
      },
      "outputs": [
        {
          "output_type": "execute_result",
          "data": {
            "text/plain": [
              "                                                text  spam\n",
              "0  Subject: naturally irresistible your corporate...     1\n",
              "1  Subject: the stock trading gunslinger  fanny i...     1\n",
              "2  Subject: unbelievable new homes made easy  im ...     1\n",
              "3  Subject: 4 color printing special  request add...     1\n",
              "4  Subject: do not have money , get software cds ...     1"
            ],
            "text/html": [
              "\n",
              "  <div id=\"df-2e16bb1c-934c-407b-8403-76d645c417b0\" class=\"colab-df-container\">\n",
              "    <div>\n",
              "<style scoped>\n",
              "    .dataframe tbody tr th:only-of-type {\n",
              "        vertical-align: middle;\n",
              "    }\n",
              "\n",
              "    .dataframe tbody tr th {\n",
              "        vertical-align: top;\n",
              "    }\n",
              "\n",
              "    .dataframe thead th {\n",
              "        text-align: right;\n",
              "    }\n",
              "</style>\n",
              "<table border=\"1\" class=\"dataframe\">\n",
              "  <thead>\n",
              "    <tr style=\"text-align: right;\">\n",
              "      <th></th>\n",
              "      <th>text</th>\n",
              "      <th>spam</th>\n",
              "    </tr>\n",
              "  </thead>\n",
              "  <tbody>\n",
              "    <tr>\n",
              "      <th>0</th>\n",
              "      <td>Subject: naturally irresistible your corporate...</td>\n",
              "      <td>1</td>\n",
              "    </tr>\n",
              "    <tr>\n",
              "      <th>1</th>\n",
              "      <td>Subject: the stock trading gunslinger  fanny i...</td>\n",
              "      <td>1</td>\n",
              "    </tr>\n",
              "    <tr>\n",
              "      <th>2</th>\n",
              "      <td>Subject: unbelievable new homes made easy  im ...</td>\n",
              "      <td>1</td>\n",
              "    </tr>\n",
              "    <tr>\n",
              "      <th>3</th>\n",
              "      <td>Subject: 4 color printing special  request add...</td>\n",
              "      <td>1</td>\n",
              "    </tr>\n",
              "    <tr>\n",
              "      <th>4</th>\n",
              "      <td>Subject: do not have money , get software cds ...</td>\n",
              "      <td>1</td>\n",
              "    </tr>\n",
              "  </tbody>\n",
              "</table>\n",
              "</div>\n",
              "    <div class=\"colab-df-buttons\">\n",
              "\n",
              "  <div class=\"colab-df-container\">\n",
              "    <button class=\"colab-df-convert\" onclick=\"convertToInteractive('df-2e16bb1c-934c-407b-8403-76d645c417b0')\"\n",
              "            title=\"Convert this dataframe to an interactive table.\"\n",
              "            style=\"display:none;\">\n",
              "\n",
              "  <svg xmlns=\"http://www.w3.org/2000/svg\" height=\"24px\" viewBox=\"0 -960 960 960\">\n",
              "    <path d=\"M120-120v-720h720v720H120Zm60-500h600v-160H180v160Zm220 220h160v-160H400v160Zm0 220h160v-160H400v160ZM180-400h160v-160H180v160Zm440 0h160v-160H620v160ZM180-180h160v-160H180v160Zm440 0h160v-160H620v160Z\"/>\n",
              "  </svg>\n",
              "    </button>\n",
              "\n",
              "  <style>\n",
              "    .colab-df-container {\n",
              "      display:flex;\n",
              "      gap: 12px;\n",
              "    }\n",
              "\n",
              "    .colab-df-convert {\n",
              "      background-color: #E8F0FE;\n",
              "      border: none;\n",
              "      border-radius: 50%;\n",
              "      cursor: pointer;\n",
              "      display: none;\n",
              "      fill: #1967D2;\n",
              "      height: 32px;\n",
              "      padding: 0 0 0 0;\n",
              "      width: 32px;\n",
              "    }\n",
              "\n",
              "    .colab-df-convert:hover {\n",
              "      background-color: #E2EBFA;\n",
              "      box-shadow: 0px 1px 2px rgba(60, 64, 67, 0.3), 0px 1px 3px 1px rgba(60, 64, 67, 0.15);\n",
              "      fill: #174EA6;\n",
              "    }\n",
              "\n",
              "    .colab-df-buttons div {\n",
              "      margin-bottom: 4px;\n",
              "    }\n",
              "\n",
              "    [theme=dark] .colab-df-convert {\n",
              "      background-color: #3B4455;\n",
              "      fill: #D2E3FC;\n",
              "    }\n",
              "\n",
              "    [theme=dark] .colab-df-convert:hover {\n",
              "      background-color: #434B5C;\n",
              "      box-shadow: 0px 1px 3px 1px rgba(0, 0, 0, 0.15);\n",
              "      filter: drop-shadow(0px 1px 2px rgba(0, 0, 0, 0.3));\n",
              "      fill: #FFFFFF;\n",
              "    }\n",
              "  </style>\n",
              "\n",
              "    <script>\n",
              "      const buttonEl =\n",
              "        document.querySelector('#df-2e16bb1c-934c-407b-8403-76d645c417b0 button.colab-df-convert');\n",
              "      buttonEl.style.display =\n",
              "        google.colab.kernel.accessAllowed ? 'block' : 'none';\n",
              "\n",
              "      async function convertToInteractive(key) {\n",
              "        const element = document.querySelector('#df-2e16bb1c-934c-407b-8403-76d645c417b0');\n",
              "        const dataTable =\n",
              "          await google.colab.kernel.invokeFunction('convertToInteractive',\n",
              "                                                    [key], {});\n",
              "        if (!dataTable) return;\n",
              "\n",
              "        const docLinkHtml = 'Like what you see? Visit the ' +\n",
              "          '<a target=\"_blank\" href=https://colab.research.google.com/notebooks/data_table.ipynb>data table notebook</a>'\n",
              "          + ' to learn more about interactive tables.';\n",
              "        element.innerHTML = '';\n",
              "        dataTable['output_type'] = 'display_data';\n",
              "        await google.colab.output.renderOutput(dataTable, element);\n",
              "        const docLink = document.createElement('div');\n",
              "        docLink.innerHTML = docLinkHtml;\n",
              "        element.appendChild(docLink);\n",
              "      }\n",
              "    </script>\n",
              "  </div>\n",
              "\n",
              "\n",
              "<div id=\"df-439f7882-3c31-432d-9ec1-ad9b4fa7c0df\">\n",
              "  <button class=\"colab-df-quickchart\" onclick=\"quickchart('df-439f7882-3c31-432d-9ec1-ad9b4fa7c0df')\"\n",
              "            title=\"Suggest charts\"\n",
              "            style=\"display:none;\">\n",
              "\n",
              "<svg xmlns=\"http://www.w3.org/2000/svg\" height=\"24px\"viewBox=\"0 0 24 24\"\n",
              "     width=\"24px\">\n",
              "    <g>\n",
              "        <path d=\"M19 3H5c-1.1 0-2 .9-2 2v14c0 1.1.9 2 2 2h14c1.1 0 2-.9 2-2V5c0-1.1-.9-2-2-2zM9 17H7v-7h2v7zm4 0h-2V7h2v10zm4 0h-2v-4h2v4z\"/>\n",
              "    </g>\n",
              "</svg>\n",
              "  </button>\n",
              "\n",
              "<style>\n",
              "  .colab-df-quickchart {\n",
              "      --bg-color: #E8F0FE;\n",
              "      --fill-color: #1967D2;\n",
              "      --hover-bg-color: #E2EBFA;\n",
              "      --hover-fill-color: #174EA6;\n",
              "      --disabled-fill-color: #AAA;\n",
              "      --disabled-bg-color: #DDD;\n",
              "  }\n",
              "\n",
              "  [theme=dark] .colab-df-quickchart {\n",
              "      --bg-color: #3B4455;\n",
              "      --fill-color: #D2E3FC;\n",
              "      --hover-bg-color: #434B5C;\n",
              "      --hover-fill-color: #FFFFFF;\n",
              "      --disabled-bg-color: #3B4455;\n",
              "      --disabled-fill-color: #666;\n",
              "  }\n",
              "\n",
              "  .colab-df-quickchart {\n",
              "    background-color: var(--bg-color);\n",
              "    border: none;\n",
              "    border-radius: 50%;\n",
              "    cursor: pointer;\n",
              "    display: none;\n",
              "    fill: var(--fill-color);\n",
              "    height: 32px;\n",
              "    padding: 0;\n",
              "    width: 32px;\n",
              "  }\n",
              "\n",
              "  .colab-df-quickchart:hover {\n",
              "    background-color: var(--hover-bg-color);\n",
              "    box-shadow: 0 1px 2px rgba(60, 64, 67, 0.3), 0 1px 3px 1px rgba(60, 64, 67, 0.15);\n",
              "    fill: var(--button-hover-fill-color);\n",
              "  }\n",
              "\n",
              "  .colab-df-quickchart-complete:disabled,\n",
              "  .colab-df-quickchart-complete:disabled:hover {\n",
              "    background-color: var(--disabled-bg-color);\n",
              "    fill: var(--disabled-fill-color);\n",
              "    box-shadow: none;\n",
              "  }\n",
              "\n",
              "  .colab-df-spinner {\n",
              "    border: 2px solid var(--fill-color);\n",
              "    border-color: transparent;\n",
              "    border-bottom-color: var(--fill-color);\n",
              "    animation:\n",
              "      spin 1s steps(1) infinite;\n",
              "  }\n",
              "\n",
              "  @keyframes spin {\n",
              "    0% {\n",
              "      border-color: transparent;\n",
              "      border-bottom-color: var(--fill-color);\n",
              "      border-left-color: var(--fill-color);\n",
              "    }\n",
              "    20% {\n",
              "      border-color: transparent;\n",
              "      border-left-color: var(--fill-color);\n",
              "      border-top-color: var(--fill-color);\n",
              "    }\n",
              "    30% {\n",
              "      border-color: transparent;\n",
              "      border-left-color: var(--fill-color);\n",
              "      border-top-color: var(--fill-color);\n",
              "      border-right-color: var(--fill-color);\n",
              "    }\n",
              "    40% {\n",
              "      border-color: transparent;\n",
              "      border-right-color: var(--fill-color);\n",
              "      border-top-color: var(--fill-color);\n",
              "    }\n",
              "    60% {\n",
              "      border-color: transparent;\n",
              "      border-right-color: var(--fill-color);\n",
              "    }\n",
              "    80% {\n",
              "      border-color: transparent;\n",
              "      border-right-color: var(--fill-color);\n",
              "      border-bottom-color: var(--fill-color);\n",
              "    }\n",
              "    90% {\n",
              "      border-color: transparent;\n",
              "      border-bottom-color: var(--fill-color);\n",
              "    }\n",
              "  }\n",
              "</style>\n",
              "\n",
              "  <script>\n",
              "    async function quickchart(key) {\n",
              "      const quickchartButtonEl =\n",
              "        document.querySelector('#' + key + ' button');\n",
              "      quickchartButtonEl.disabled = true;  // To prevent multiple clicks.\n",
              "      quickchartButtonEl.classList.add('colab-df-spinner');\n",
              "      try {\n",
              "        const charts = await google.colab.kernel.invokeFunction(\n",
              "            'suggestCharts', [key], {});\n",
              "      } catch (error) {\n",
              "        console.error('Error during call to suggestCharts:', error);\n",
              "      }\n",
              "      quickchartButtonEl.classList.remove('colab-df-spinner');\n",
              "      quickchartButtonEl.classList.add('colab-df-quickchart-complete');\n",
              "    }\n",
              "    (() => {\n",
              "      let quickchartButtonEl =\n",
              "        document.querySelector('#df-439f7882-3c31-432d-9ec1-ad9b4fa7c0df button');\n",
              "      quickchartButtonEl.style.display =\n",
              "        google.colab.kernel.accessAllowed ? 'block' : 'none';\n",
              "    })();\n",
              "  </script>\n",
              "</div>\n",
              "\n",
              "    </div>\n",
              "  </div>\n"
            ],
            "application/vnd.google.colaboratory.intrinsic+json": {
              "type": "dataframe",
              "variable_name": "data",
              "summary": "{\n  \"name\": \"data\",\n  \"rows\": 5728,\n  \"fields\": [\n    {\n      \"column\": \"text\",\n      \"properties\": {\n        \"dtype\": \"string\",\n        \"num_unique_values\": 5695,\n        \"samples\": [\n          \"Subject: eprm article  hi vince ,  ?  as always , it was good to see you again in houston - we all enjoyed the meal  very much , the restaurant was a good choice .  ?  it ' s that time again i ' m afraid . can you pls cast your eye over the  attached ? and , if at all possible , get back to me in the next few days - i  have to deliver something to london by friday .  ?  how ' s the course going at rice ? not too much work i hope .  ?  best regards .  ?  chris .  ?  - eprm _ 09 _ fwd _ vol _ estimation . doc\",\n          \"Subject: fluid analysis  our customer speak volumes about our spur m product  \\\" i just wanted to write and thank you for spur - m .  i suffered from poor sperm count and motility . i found  your site and ordered spur - m fertility blend for men .  i have wondered for years what caused low semen and sperm  count , and how i could improve my fertility and help my wife  conceive . spur - m seems to have done just that ! thank you  for your support . \\\"  andrew h . , london , uk  \\\" spur - m really does help improve fertility and effectiveness  of sperm and semen motility . i used it for the past few months ,  and not only does it work - i also feel better to . i have  more energy . this is an excellent counter to low sperm count  and motility . i ' ll be buying more ! ! ! \\\"  franz k . , bonn , germany  http : / / findgoodstuffhere . com / spur /  for removing , pls go here  http : / / findgoodstuffhere . com / rm . php\",\n          \"Subject: re : liquids limits oct . 20  john :  i will be here most of the week , and am looking forward to working with niamh  c . i will also check the availability of people in vince k . group as well as  naveen andrews in ours .  regards  bjorn h .  john l nowlan  24 / 10 / 2000 10 : 32  to : bjorn hagelmann / hou / ect @ ect  cc : ted murphy / hou / ect @ ect  subject : re : liquids limits oct . 20  bjorn , niamh clarke is going to come to houston from mon afternoon to friday  next week to work on nvar . she developed var models for mitsubishi and has  lots of experience in this area . can you please provide her with the best  people we can from research and rac so we can try and get a better  understanding and more confidence in our model . i ' m sure you agree with me  that if my group is going to make any progress we need to get this sorted .  thanks in advance .  - - - - - - - - - - - - - - - - - - - - - - forwarded by john l nowlan / hou / ect on 10 / 24 / 2000 09 : 51  am - - - - - - - - - - - - - - - - - - - - - - - - - - -  from : bjorn hagelmann  10 / 24 / 2000 07 : 31 am  to : john l nowlan / hou / ect @ ect  cc : scott earnest / hou / ect @ ect  subject : re : liquids limits oct . 20  i think we need to sit down and talk about developing reporting that will  show the risk in the books . at this point and time it can be derived , but  only if you know what to look for . i would appreciate if you had some time to  do so .  regards  bjorn h  john l nowlan  23 / 10 / 2000 13 : 10  to : christian lebroc / corp / enron @ enron , scott earnest / hou / ect @ ect , bjorn  hagelmann / hou / ect @ ect  cc :  subject : re : liquids limits oct . 20  looking at these numbers i think the var model must be waaaaaaaaaay over  calcing something , most likely the spreads . the net and outright product  position are negligible . seems it would take one hell of a daily move to  loose 12 . 7 on these positions .\"\n        ],\n        \"semantic_type\": \"\",\n        \"description\": \"\"\n      }\n    },\n    {\n      \"column\": \"spam\",\n      \"properties\": {\n        \"dtype\": \"number\",\n        \"std\": 0,\n        \"min\": 0,\n        \"max\": 1,\n        \"num_unique_values\": 2,\n        \"samples\": [\n          0,\n          1\n        ],\n        \"semantic_type\": \"\",\n        \"description\": \"\"\n      }\n    }\n  ]\n}"
            }
          },
          "metadata": {},
          "execution_count": 3
        }
      ],
      "source": [
        "# Creating and cleaning the dataframe\n",
        "mainData = pd.read_csv('/content/Emails.csv')\n",
        "data = mainData.where((pd.notnull(mainData)), '') #actually no need for this step, just removes all the slots that equals to 'NaN'\n",
        "data = data[['text', 'spam']]\n",
        "data.head()"
      ]
    },
    {
      "cell_type": "markdown",
      "metadata": {
        "id": "8xyU12kuEmX7"
      },
      "source": [
        "#Step 2 : Exploratory Data Analysis\n",
        "\n"
      ]
    },
    {
      "cell_type": "markdown",
      "metadata": {
        "id": "v0_aJtw6Jp29"
      },
      "source": [
        "##Using Natural Language Processing (NLP) pre-processing techniques to make sense of the unstructured text data.\n",
        "\n",
        "The dataset we have is difficult to analyse as it is unstructured text. The first step is to extract features of the unstructured text so we can make sense of it.\n"
      ]
    },
    {
      "cell_type": "code",
      "execution_count": 4,
      "metadata": {
        "colab": {
          "base_uri": "https://localhost:8080/"
        },
        "id": "krbVp3kYPaLh",
        "outputId": "144052b4-5452-4351-ff6e-39b2e30040d6"
      },
      "outputs": [
        {
          "output_type": "stream",
          "name": "stderr",
          "text": [
            "[nltk_data] Downloading package wordnet to /root/nltk_data...\n",
            "[nltk_data] Downloading package stopwords to /root/nltk_data...\n",
            "[nltk_data]   Unzipping corpora/stopwords.zip.\n"
          ]
        }
      ],
      "source": [
        "## Importing Libraries and Methods\n",
        "import nltk\n",
        "nltk.download('wordnet')\n",
        "nltk.download('stopwords')\n",
        "from nltk.stem import WordNetLemmatizer\n",
        "from nltk.corpus import stopwords\n",
        "stop = stopwords.words('english')\n",
        "stop.append(\"subject\")\n",
        "stop.append(\"enron\")\n",
        "stop.append(\"ect\")\n",
        "\n",
        "def tokenize_words(text):\n",
        "\n",
        "  punct_list = [\"!\",'\"',\"#\",\"$\",\"%\",\"&\",\"'\",\"(\",\")\",\"*\",\"+\",\",\",\"-\",\".\",\"/\",\":\",\";\",\"<\",\"=\",\">\",\"?\",\"@\",\"[\",'\\\\',\"]\",\"^\",\"_\",\"`\",\"{\",\"|\",\"}\",\"~\"]\n",
        "  replace_list = [\"\\n\",\"\\t\"]\n",
        "\n",
        "  # Iterate through the punctuation list and replace each item with a space + the item\n",
        "  for x in punct_list:\n",
        "    text = text.replace(x,\" \")\n",
        "\n",
        "  # Iterate through the replace list and replace it with a space\n",
        "  for x in replace_list:\n",
        "    text = text.replace(x,\" \")\n",
        "\n",
        "  return text\n",
        "\n",
        "def lemmatize_text(text):\n",
        "  lemmatizer = WordNetLemmatizer()\n",
        "  lemmatizer.lemmatize(text)\n",
        "  return text\n"
      ]
    },
    {
      "cell_type": "code",
      "execution_count": 8,
      "metadata": {
        "id": "bQJHQr5TWRDu",
        "colab": {
          "base_uri": "https://localhost:8080/"
        },
        "outputId": "29f86226-7089-45f6-d57f-99ac8c527904"
      },
      "outputs": [
        {
          "output_type": "stream",
          "name": "stdout",
          "text": [
            "                                                   text  spam\n",
            "0     naturally irresistible corporate identity lt r...     1\n",
            "1     stock trading gunslinger fanny merrill muzo co...     1\n",
            "2     unbelievable new homes made easy im wanting sh...     1\n",
            "3     4 color printing special request additional in...     1\n",
            "4     money get software cds software compatibility ...     1\n",
            "...                                                 ...   ...\n",
            "1363  ready get hello viagra 1 med struggle mens ere...     1\n",
            "1364  would like 250 gas card let current high price...     1\n",
            "1365  immediate reply needed dear sir dr james alabi...     1\n",
            "1366  wanna see get fisted fist bang show everything...     1\n",
            "1367  hot stock info drgv announces another press re...     1\n",
            "\n",
            "[1368 rows x 2 columns]\n",
            "                                                   text  spam\n",
            "1368  hello guys bugging completed questionnaire one...     0\n",
            "1369  sacramento weather station fyi forwarded mike ...     0\n",
            "1370  india newsdesk jan 18 th newsclips vince fyi f...     0\n",
            "1371  powerisk 2001 invitation angelika thanks invit...     0\n",
            "1372  resco database customer capture steve krishna ...     0\n",
            "...                                                 ...   ...\n",
            "5723  research development charges gpg forwarded shi...     0\n",
            "5724  receipts visit jim thanks invitation visit lsu...     0\n",
            "5725  case study update wow day super thank much vin...     0\n",
            "5726  interest david please call shirley crenshaw as...     0\n",
            "5727  news aurora 5 2 update aurora version 5 2 fast...     0\n",
            "\n",
            "[4360 rows x 2 columns]\n"
          ]
        }
      ],
      "source": [
        "df = pd.DataFrame(mainData)\n",
        "df[\"text\"] = df[\"text\"].str.lower()\n",
        "df[\"text\"] = df[\"text\"].apply(tokenize_words)\n",
        "df[\"text\"] = df[\"text\"].apply(lemmatize_text)\n",
        "df[\"text\"] = df[\"text\"].apply(lambda x: ' '.join([word for word in x.split() if word not in (stop)]))\n",
        "\n",
        "df1 = df[df['spam'] == 1] #Spam\n",
        "df2 = df[df['spam'] == 0] #Ham\n",
        "\n",
        "print(df1) #Print Processed Spam\n",
        "print(df2) #Print Processed Ham"
      ]
    },
    {
      "cell_type": "markdown",
      "metadata": {
        "id": "KUE8l482ONR-"
      },
      "source": [
        "## First piece of exploratory analysis we did was to count which words most frequently appeared in the emails labelled as Spam and not Spam respectively, and make observations."
      ]
    },
    {
      "cell_type": "code",
      "execution_count": 6,
      "metadata": {
        "id": "lMyxsM8MSBxM"
      },
      "outputs": [],
      "source": [
        "# Calculating the frequency of each word\n",
        "spam_vocab = df1.text.str.split(expand=True).stack().value_counts()\n",
        "ham_vocab = df2.text.str.split(expand=True).stack().value_counts()\n",
        "\n",
        "spam_freq = pd.DataFrame(spam_vocab)\n",
        "ham_freq = pd.DataFrame(ham_vocab)"
      ]
    },
    {
      "cell_type": "code",
      "execution_count": 7,
      "metadata": {
        "colab": {
          "base_uri": "https://localhost:8080/"
        },
        "id": "Xdl65DXmY-M_",
        "outputId": "c66346fc-7c8c-4fbf-f11c-4efd92c0f1ec"
      },
      "outputs": [
        {
          "output_type": "stream",
          "name": "stdout",
          "text": [
            "Top 20 ocurring words in Spam Set:\n",
            "              count\n",
            "com            999\n",
            "1              952\n",
            "business       844\n",
            "company        805\n",
            "email          804\n",
            "information    740\n",
            "e              701\n",
            "5              687\n",
            "money          662\n",
            "2              613\n",
            "free           606\n",
            "3              604\n",
            "http           600\n",
            "get            590\n",
            "mail           586\n",
            "please         581\n",
            "one            581\n",
            "000            560\n",
            "us             537\n",
            "click          531\n",
            "\n",
            "\n",
            "Top 20 ocurring words in Non-Spam Set:\n",
            "           count\n",
            "vince      8531\n",
            "hou        5569\n",
            "2000       4935\n",
            "kaminski   4770\n",
            "com        4444\n",
            "please     4386\n",
            "would      4151\n",
            "cc         3889\n",
            "j          3693\n",
            "pm         3262\n",
            "2001       3060\n",
            "research   2670\n",
            "thanks     2523\n",
            "1          2490\n",
            "2          2323\n",
            "know       2297\n",
            "group      2255\n",
            "10         2213\n",
            "time       2212\n",
            "energy     2115\n"
          ]
        }
      ],
      "source": [
        "#Display result\n",
        "print(\"Top 20 ocurring words in Spam Set:\\n\",spam_freq.head(20))\n",
        "print(\"\\n\")\n",
        "print(\"Top 20 ocurring words in Non-Spam Set:\\n\",ham_freq.head(20))"
      ]
    },
    {
      "cell_type": "markdown",
      "metadata": {
        "id": "sWYoYzElO2qt"
      },
      "source": [
        "\n",
        "\n",
        "---\n",
        "\n",
        "\n",
        "We noticed that there are some similarities in the top 20 most frequently ocurring words in both sets, namely :\n",
        "<ul>\n",
        "  <li>Integers<i>\n",
        "  <li>\"please\"\n",
        "  <li>\"com\"</i>\n",
        "</ul>\n",
        "\n",
        "We conclude that these do not help in classifying Spam from Non-Spam. It can be confirmed by plotting a correlation matrix to those words and spam or ham."
      ]
    },
    {
      "cell_type": "code",
      "execution_count": null,
      "metadata": {
        "colab": {
          "base_uri": "https://localhost:8080/",
          "height": 398
        },
        "id": "IDU1GVebXWm1",
        "outputId": "e4894f31-b5a5-4852-d74e-768ecdf3fe80"
      },
      "outputs": [
        {
          "output_type": "execute_result",
          "data": {
            "text/plain": [
              "<Axes: >"
            ]
          },
          "metadata": {},
          "execution_count": 11
        },
        {
          "output_type": "display_data",
          "data": {
            "text/plain": [
              "<Figure size 600x400 with 2 Axes>"
            ],
            "image/png": "[encoded data removed]"
          },
          "metadata": {}
        }
      ],
      "source": [
        "df['has_please'] = np.where((df[\"text\"].str.contains(\"please\")),1,0)\n",
        "df['has_com'] = np.where((df[\"text\"].str.contains(\"com\")),1,0)\n",
        "\n",
        "spam = df[\"spam\"]\n",
        "has_please = df[\"has_please\"]\n",
        "has_com = df[\"has_com\"]\n",
        "\n",
        "f, axes = plt.subplots(figsize = (6,4))\n",
        "corr = pd.concat([spam, has_please, has_com], axis = 1).corr()\n",
        "sb.heatmap(data = corr, vmin = -1, vmax = 1, annot = True)"
      ]
    },
    {
      "cell_type": "markdown",
      "metadata": {
        "id": "eJa2Xngpdsuf"
      },
      "source": [
        "We can observe there is low correlation between : <br>\n",
        "spam and has_please : -0.25 (low correlation) <br>\n",
        "spam and has_com : -0.027 (low correlation)\n",
        "\n",
        "Our conclusions are confirmed to be correct."
      ]
    },
    {
      "cell_type": "markdown",
      "metadata": {
        "id": "c_GOWpekQmKK"
      },
      "source": [
        "\n",
        "\n",
        "---\n",
        "\n",
        "\n",
        "We do want to highlight the existence of interesting words that\n",
        "are frequently present in the Spam Set, and provide probable explanations to it. Specifically :\n",
        "<ul><b>Group 1</b>\n",
        "  <li><i>\"business\"\n",
        "  <li>\"company\"\n",
        "  <li>\"money\"</i>\n",
        "</ul>\n",
        "<ul><b>Group 2</b>\n",
        "  <li><i>\"free\"\n",
        "  <li>\"http\"\n",
        "  <li>\"click\"</i>\n",
        "</ul>\n",
        "The words in Group 1 relate to money, and the words in Group 2 outline a narrative of gaining something at a low cost of action (clicking a link).\n",
        "\n",
        "Both groups have an overarching concept of Greed, which may be an emotion that spam emails may try to invoke in users to get them to do something."
      ]
    },
    {
      "cell_type": "markdown",
      "metadata": {
        "id": "0kvZIZTmL-Xk"
      },
      "source": [
        "#Step 3 : Using Machine Learning (ML) to solve our problem (Core Analysis)"
      ]
    },
    {
      "cell_type": "markdown",
      "source": [
        "Extracting features from our data :"
      ],
      "metadata": {
        "id": "Krc9u33Sl775"
      }
    },
    {
      "cell_type": "code",
      "source": [
        "# Import Libraries\n",
        "from sklearn.model_selection import train_test_split\n",
        "from sklearn.feature_extraction.text import TfidfVectorizer\n",
        "from sklearn.metrics import accuracy_score, recall_score, f1_score, precision_score, confusion_matrix, classification_report, make_scorer\n",
        "\n",
        "X = data['text']\n",
        "Y = data['spam']\n",
        "\n",
        "# Splitting the train and test datasets\n",
        "X_train, X_test, y_train, y_test = train_test_split(X, Y, test_size = 0.2, random_state = 3)\n",
        "\n",
        "# Extracting features of the text using the vectorizer\n",
        "feature_extraction = TfidfVectorizer(min_df = 1, stop_words = 'english', lowercase = True)\n",
        "\n",
        "X_train_features = feature_extraction.fit_transform(X_train)\n",
        "X_test_features = feature_extraction.transform(X_test)\n",
        "\n",
        "y_train = y_train.astype('int')\n",
        "y_pred_svm_rbf_test = y_test.astype('int')"
      ],
      "metadata": {
        "id": "2BEFU-J4lJPN"
      },
      "execution_count": null,
      "outputs": []
    },
    {
      "cell_type": "markdown",
      "metadata": {
        "id": "lYbR8Z3RMV0C"
      },
      "source": [
        "##3.1 : Using Logistic Regression"
      ]
    },
    {
      "cell_type": "code",
      "execution_count": null,
      "metadata": {
        "id": "BVWDF6pgK3lN"
      },
      "outputs": [],
      "source": [
        "from sklearn.linear_model import LogisticRegression"
      ]
    },
    {
      "cell_type": "code",
      "execution_count": null,
      "metadata": {
        "id": "fJTD0jXjid8b"
      },
      "outputs": [],
      "source": [
        "# Fitting the logistic regression model\n",
        "model = LogisticRegression()\n",
        "model.fit(X_train_features, y_train)"
      ]
    },
    {
      "cell_type": "code",
      "execution_count": null,
      "metadata": {
        "colab": {
          "base_uri": "https://localhost:8080/"
        },
        "id": "setG-esd__xa",
        "outputId": "468c3b56-379b-4bf8-aa85-808036225b9d"
      },
      "outputs": [
        {
          "output_type": "stream",
          "name": "stdout",
          "text": [
            "Model accuracy on Test Data :  0.9965080750763858\n"
          ]
        }
      ],
      "source": [
        "# Make predictions on the training data; evaluate the accuracy\n",
        "prediction_on_training_data = model.predict(X_train_features)\n",
        "accuracy_on_training_data = accuracy_score(y_train, prediction_on_training_data)\n",
        "print('Model accuracy on Training Data : ', accuracy_on_training_data)"
      ]
    },
    {
      "cell_type": "code",
      "execution_count": null,
      "metadata": {
        "colab": {
          "base_uri": "https://localhost:8080/"
        },
        "id": "CMMZQ-80AmSW",
        "outputId": "a81e1b86-fe0c-4984-f92e-c6ddc1db8d17"
      },
      "outputs": [
        {
          "output_type": "stream",
          "name": "stdout",
          "text": [
            "Model accuracy on Training Data:  0.9834205933682374\n"
          ]
        }
      ],
      "source": [
        "# Make predictions on the test data; evaluate the accuracy\n",
        "prediction_on_test_data = model.predict(X_test_features)\n",
        "accuracy_on_test_data = accuracy_score(y_test, prediction_on_test_data)\n",
        "print('Model accuracy on Test Data: ', accuracy_on_test_data)"
      ]
    },
    {
      "cell_type": "code",
      "execution_count": null,
      "metadata": {
        "colab": {
          "base_uri": "https://localhost:8080/"
        },
        "id": "t7nHHiMcCE8y",
        "outputId": "05de35d9-4e49-4158-e1a7-275b47193a59"
      },
      "outputs": [
        {
          "output_type": "stream",
          "name": "stdout",
          "text": [
            "Ham\n"
          ]
        }
      ],
      "source": [
        "# User interface for the Spam Filter\n",
        "# input()\n",
        "input_your_mail = [\"\"]\n",
        "\n",
        "input_data_features = feature_extraction.transform(input_your_mail)\n",
        "prediction = model.predict(input_data_features)\n",
        "\n",
        "if (prediction[0] == 1):\n",
        "  print('Spam')\n",
        "else:\n",
        "  print('Ham')"
      ]
    },
    {
      "cell_type": "markdown",
      "metadata": {
        "id": "E77XHR_ANVgQ"
      },
      "source": [
        "##3.2 Using Naive Bayes Classifier"
      ]
    },
    {
      "cell_type": "code",
      "execution_count": null,
      "metadata": {
        "colab": {
          "base_uri": "https://localhost:8080/",
          "height": 698
        },
        "id": "_2a3GQTxrF4a",
        "outputId": "78437c57-72fe-421b-bf66-48d4a89bed65"
      },
      "outputs": [
        {
          "output_type": "stream",
          "name": "stdout",
          "text": [
            "Naive Bayes Classifier Confusion Matrix:\n",
            "[[871   0]\n",
            " [101 174]]\n",
            "Naive Bayes Classifier Accuracy: 0.9118673647469459\n",
            "Naive Bayes Classifier Precision: 1.0\n",
            "Naive Bayes Classifier Recall: 0.6327272727272727\n",
            "Naive Bayes Classifier F1-score: 0.775055679287305\n"
          ]
        },
        {
          "output_type": "display_data",
          "data": {
            "text/plain": [
              "<Figure size 800x600 with 1 Axes>"
            ],
            "image/png": "[encoded data removed]"
          },
          "metadata": {}
        }
      ],
      "source": [
        "from sklearn.naive_bayes import MultinomialNB\n",
        "\n",
        "# Initialize the Naive Bayes classifier\n",
        "clf_nb = MultinomialNB()\n",
        "\n",
        "# Train the classifier\n",
        "clf_nb.fit(X_train_features, y_train)\n",
        "\n",
        "# Make predictions on the test set\n",
        "y_pred_nb = clf_nb.predict(X_test_features)\n",
        "\n",
        "# Generate confusion matrix for Naive Bayes\n",
        "cm_nb = confusion_matrix(y_test, y_pred_nb)\n",
        "\n",
        "# Calculate accuracy metrics for Naive Bayes\n",
        "accuracy_nb = accuracy_score(y_test, y_pred_nb)\n",
        "precision_nb = precision_score(y_test, y_pred_nb)\n",
        "recall_nb = recall_score(y_test, y_pred_nb)\n",
        "f1_nb = f1_score(y_test, y_pred_nb)\n",
        "\n",
        "print(\"Naive Bayes Classifier Confusion Matrix:\")\n",
        "print(cm_nb)\n",
        "print(\"Naive Bayes Classifier Accuracy:\", accuracy_nb)\n",
        "print(\"Naive Bayes Classifier Precision:\", precision_nb)\n",
        "print(\"Naive Bayes Classifier Recall:\", recall_nb)\n",
        "print(\"Naive Bayes Classifier F1-score:\", f1_nb)\n",
        "\n",
        "# Plot confusion matrix heatmap for Naive Bayes Classifier\n",
        "plt.figure(figsize=(8, 6))\n",
        "sb.heatmap(cm_nb, annot=True, fmt=\"d\", cbar=False)\n",
        "plt.title(\"Naive Bayes Classifier Confusion Matrix\")\n",
        "plt.xlabel(\"Predicted\")\n",
        "plt.ylabel(\"Actual\")\n",
        "plt.show()\n"
      ]
    },
    {
      "cell_type": "markdown",
      "source": [
        "##3.3 Using Support Vector Machine with RBF Kernel"
      ],
      "metadata": {
        "id": "jfDF0sSqitdn"
      }
    },
    {
      "cell_type": "code",
      "source": [
        "from sklearn.svm import SVC\n",
        "\n",
        "# Initialize the SVM classifier with RBF kernel\n",
        "clf_svm_rbf = SVC(kernel='rbf', random_state=42)\n",
        "\n",
        "# Train the classifier\n",
        "clf_svm_rbf.fit(X_train_features, y_train)\n",
        "\n",
        "# Make predictions on the test set\n",
        "y_pred_svm_rbf = clf_svm_rbf.predict(X_test_features)\n",
        "\n",
        "# Generate confusion matrix for SVM with RBF kernel\n",
        "cm_svm_rbf = confusion_matrix(y_test, y_pred_svm_rbf)\n",
        "\n",
        "# Calculate accuracy metrics for SVM with RBF kernel\n",
        "accuracy_svm_rbf = accuracy_score(y_test, y_pred_svm_rbf)\n",
        "precision_svm_rbf = precision_score(y_test, y_pred_svm_rbf)\n",
        "recall_svm_rbf = recall_score(y_test, y_pred_svm_rbf)\n",
        "f1_svm_rbf = f1_score(y_test, y_pred_svm_rbf)\n",
        "\n",
        "print(\"SVM with RBF Kernel Confusion Matrix:\")\n",
        "print(cm_svm_rbf)\n",
        "print(\"SVM with RBF Kernel Accuracy:\", accuracy_svm_rbf)\n",
        "print(\"SVM with RBF Kernel Precision:\", precision_svm_rbf)\n",
        "print(\"SVM with RBF Kernel Recall:\", recall_svm_rbf)\n",
        "print(\"SVM with RBF Kernel F1-score:\", f1_svm_rbf)\n",
        "\n",
        "# Plot confusion matrix heatmap for SVM with RBF kernel\n",
        "plt.figure(figsize=(8, 6))\n",
        "sb.heatmap(cm_svm_rbf, annot=True, fmt=\"d\", cmap=\"Blues\", cbar=False)\n",
        "plt.title(\"SVM with RBF Kernel Confusion Matrix\")\n",
        "plt.xlabel(\"Predicted\")\n",
        "plt.ylabel(\"Actual\")\n",
        "plt.show()"
      ],
      "metadata": {
        "colab": {
          "base_uri": "https://localhost:8080/",
          "height": 698
        },
        "id": "ApGO1wuPiyDZ",
        "outputId": "c66c52ac-9147-438c-d87c-734f2864e435"
      },
      "execution_count": null,
      "outputs": [
        {
          "output_type": "stream",
          "name": "stdout",
          "text": [
            "SVM with RBF Kernel Confusion Matrix:\n",
            "[[869   2]\n",
            " [  7 268]]\n",
            "SVM with RBF Kernel Accuracy: 0.9921465968586387\n",
            "SVM with RBF Kernel Precision: 0.9925925925925926\n",
            "SVM with RBF Kernel Recall: 0.9745454545454545\n",
            "SVM with RBF Kernel F1-score: 0.98348623853211\n"
          ]
        },
        {
          "output_type": "display_data",
          "data": {
            "text/plain": [
              "<Figure size 800x600 with 1 Axes>"
            ],
            "image/png": "[encoded data removed]"
          },
          "metadata": {}
        }
      ]
    },
    {
      "cell_type": "markdown",
      "source": [
        "##3.4 Using Random Forest"
      ],
      "metadata": {
        "id": "z7fzjuAOopfv"
      }
    },
    {
      "cell_type": "code",
      "source": [
        "from sklearn.ensemble import RandomForestClassifier\n",
        "\n",
        "# Initialize the classifier (Random Forest Classifier)\n",
        "clf_rf = RandomForestClassifier()\n",
        "\n",
        "# Train the classifier\n",
        "clf_rf.fit(X_train_features, y_train)\n",
        "\n",
        "# Make predictions on the test set\n",
        "y_pred_rf = clf_rf.predict(X_test_features)\n",
        "\n",
        "# Generate confusion matrix for Random Forest\n",
        "cm_rf = confusion_matrix(y_test, y_pred_rf)\n",
        "\n",
        "# Calculate accuracy metrics for Random Forest\n",
        "accuracy_rf = accuracy_score(y_test, y_pred_rf)\n",
        "precision_rf = precision_score(y_test, y_pred_rf)\n",
        "recall_rf = recall_score(y_test, y_pred_rf)\n",
        "f1_rf = f1_score(y_test, y_pred_rf)\n",
        "\n",
        "print(\"Random Forest Confusion Matrix:\")\n",
        "print(cm_rf)\n",
        "print(\"Random Forest Accuracy:\", accuracy_rf)\n",
        "print(\"Random Forest Precision:\", precision_rf)\n",
        "print(\"Random Forest Recall:\", recall_rf)\n",
        "print(\"Random Forest F1-score:\", f1_rf)\n",
        "\n",
        "# Plot confusion matrix heatmap for Random Forest\n",
        "plt.figure(figsize=(8, 6))\n",
        "sb.heatmap(cm_rf, annot=True, fmt=\"d\", cbar=False)\n",
        "plt.title(\"Random Forest Confusion Matrix\")\n",
        "plt.xlabel(\"Predicted\")\n",
        "plt.ylabel(\"Actual\")\n",
        "plt.show()"
      ],
      "metadata": {
        "colab": {
          "base_uri": "https://localhost:8080/",
          "height": 698
        },
        "id": "czzbMh_-i53k",
        "outputId": "3ebec3b1-c8ad-4583-90d6-aad9f4888898"
      },
      "execution_count": null,
      "outputs": [
        {
          "output_type": "stream",
          "name": "stdout",
          "text": [
            "Random Forest Confusion Matrix:\n",
            "[[871   0]\n",
            " [ 24 251]]\n",
            "Random Forest Accuracy: 0.9790575916230366\n",
            "Random Forest Precision: 1.0\n",
            "Random Forest Recall: 0.9127272727272727\n",
            "Random Forest F1-score: 0.9543726235741445\n"
          ]
        },
        {
          "output_type": "display_data",
          "data": {
            "text/plain": [
              "<Figure size 800x600 with 1 Axes>"
            ],
            "image/png": "[encoded data removed]"
          },
          "metadata": {}
        }
      ]
    },
    {
      "cell_type": "markdown",
      "source": [
        "#Step 4 : Comparing Models"
      ],
      "metadata": {
        "id": "S9oX2hQQpKsY"
      }
    },
    {
      "cell_type": "code",
      "source": [
        "print(\"Accuracy of Models : \")\n",
        "print(\"Logistic Regression : \", accuracy_on_test_data)\n",
        "print(\"Naive Bayes : \", accuracy_nb)\n",
        "print(\"Support Vector Machine : \", accuracy_svm_rbf)\n",
        "print(\"Random Forest : \", accuracy_rf)\n",
        "\n",
        "print(max(accuracy_on_test_data,accuracy_nb,accuracy_svm_rbf,accuracy_rf),\"has the highest accuracy.\")"
      ],
      "metadata": {
        "colab": {
          "base_uri": "https://localhost:8080/"
        },
        "id": "ZPDcdknhpNSw",
        "outputId": "bb458130-2ea2-4665-9a25-e904ccaa078d"
      },
      "execution_count": null,
      "outputs": [
        {
          "output_type": "stream",
          "name": "stdout",
          "text": [
            "Accuracy of Models : \n",
            "Linear Rgression :  0.9834205933682374\n",
            "Naive Bayes :  0.9118673647469459\n",
            "Support Vector Machine :  0.9921465968586387\n",
            "Random Forest :  0.9825479930191972\n",
            "0.9921465968586387 has the highest accuracy.\n"
          ]
        }
      ]
    },
    {
      "cell_type": "code",
      "source": [
        "# List of classifiers and their corresponding accuracy scores\n",
        "classifiers = [\"Logistic Regression\", \"Naive Bayes\", \"Support Vector Machine with RBF\", \"Random Forest\"]\n",
        "accuracies = [accuracy_on_test_data, accuracy_nb, accuracy_svm_rbf, accuracy_rf]\n",
        "# Plotting the accuracy scores with percentages\n",
        "plt.figure(figsize=(10, 6))\n",
        "bars = plt.barh(classifiers, accuracies)\n",
        "plt.xlabel('Accuracy')\n",
        "plt.ylabel('Model')\n",
        "plt.title('Accuracy Comparison')\n",
        "plt.xlim(0, 1)\n",
        "plt.gca().invert_yaxis()  # Invert y-axis to have the highest accuracy at the top\n",
        "\n",
        "# Percentage labels on each bar\n",
        "for bar, accuracy in zip(bars, accuracies):\n",
        "    plt.text(bar.get_width(), bar.get_y() + bar.get_height()/2, f'{accuracy*100:.2f}%',\n",
        "             va='center', ha='left', fontsize=10, color='black')\n",
        "\n",
        "plt.show()"
      ],
      "metadata": {
        "colab": {
          "base_uri": "https://localhost:8080/",
          "height": 552
        },
        "id": "c-gO287-qHtV",
        "outputId": "1eba026b-030c-40f4-c0ef-6354a4cc6331"
      },
      "execution_count": null,
      "outputs": [
        {
          "output_type": "display_data",
          "data": {
            "text/plain": [
              "<Figure size 1000x600 with 1 Axes>"
            ],
            "image/png": "[encoded data removed]"
          },
          "metadata": {}
        }
      ]
    },
    {
      "cell_type": "code",
      "source": [],
      "metadata": {
        "id": "vdZ0XOKlrSX2"
      },
      "execution_count": null,
      "outputs": []
    }
  ],
  "metadata": {
    "colab": {
      "provenance": []
    },
    "kernelspec": {
      "display_name": "Python 3",
      "name": "python3"
    },
    "language_info": {
      "name": "python"
    }
  },
  "nbformat": 4,
  "nbformat_minor": 0
}